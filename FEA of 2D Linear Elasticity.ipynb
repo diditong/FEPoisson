{
 "cells": [
  {
   "cell_type": "code",
   "execution_count": 46,
   "metadata": {},
   "outputs": [
    {
     "data": {
      "text/plain": [
       "200"
      ]
     },
     "execution_count": 46,
     "metadata": {},
     "output_type": "execute_result"
    }
   ],
   "source": [
    "import numpy as np\n",
    "\n",
    "Points = [-1, [0,0], [0,10], [20,10], [20,0]]\n",
    "#For Element #1\n",
    "xr_1 = Points[1][0]-Points[2][0]\n",
    "xs_1 = Points[3][0]-Points[2][0]\n",
    "yr_1 = Points[1][1]-Points[2][1]\n",
    "ys_1 = Points[3][1]-Points[2][1]\n",
    "\n",
    "J_1 = xr_1*ys_1-xs_1*yr_1\n",
    "\n",
    "N1x_1 = ys_1/J_1\n",
    "N2x_1 = -yr_1/J_1\n",
    "N3x_1 = (yr_1-ys_1)/J_1\n",
    "N1y_1 = -xs_1/J_1\n",
    "N2y_1 = xr_1/J_1\n",
    "N3y_1 = (xs_1-xr_1)/J_1\n",
    "\n",
    "#For Element #2\n",
    "xr_2 = Points[1][0]-Points[3][0]\n",
    "xs_2 = Points[4][0]-Points[3][0]\n",
    "yr_2 = Points[1][1]-Points[3][1]\n",
    "ys_2 = Points[4][1]-Points[3][1]\n",
    "\n",
    "J_2 = xr_2*ys_2-xs_2*yr_2\n",
    "\n",
    "N1x_2 = ys_2/J_2\n",
    "N2x_2 = -yr_2/J_2\n",
    "N3x_2 = (yr_2-ys_2)/J_2\n",
    "N1y_2 = -xs_2/J_2\n",
    "N2y_2 = xr_2/J_2\n",
    "N3y_2 = (xs_2-xr_2)/J_2\n",
    "\n",
    "Nx_1 = [-1, N1x_1, N2x_1, N3x_1]\n",
    "Ny_1 = [-1, N1y_1, N2y_1, N3y_1]\n",
    "Nx_2 = [-1, N1x_2, N2x_2, N3x_2]\n",
    "Ny_2 = [-1, N1y_2, N2y_2, N3y_2]\n",
    "\n",
    "Nx = [-1, Nx_1, Nx_2]\n",
    "Ny = [-1, Ny_1, Ny_2]\n",
    "\n",
    "\n",
    "np.array([[Nx[1][1]*Nx[1][1]+(1-0.3)/2*Ny[1][1]*Ny[1][1], 0.3*Nx[1][1]*Ny[1][1]+(1-0.3)/2*Ny[1][1]*Nx[1][1]],\n",
    "        [0.3*Ny[1][1]*Nx[1][1]+(1-0.3)/2*Nx[1][1]*Ny[1][1], Ny[1][1]*Ny[1][1]+(1-0.3)/2*Nx[1][1]*Nx[1][1]]])\n",
    "\n",
    "def Ke(a,b,e):\n",
    "    return (3e7/75000)*np.array([[Nx[e][a]*Nx[e][b]+(1-0.3)/2*Ny[e][a]*Ny[e][b], 0.3*Nx[e][a]*Ny[e][b]+(1-0.3)/2*Ny[e][a]*Nx[e][b]],\n",
    "                    [0.3*Ny[e][a]*Nx[e][b]+(1-0.3)/2*Nx[e][a]*Ny[e][b], Ny[e][a]*Ny[e][b]+(1-0.3)/2*Nx[e][a]*Nx[e][b]]])\n",
    "\n",
    "K = np.array([[Ke(1,1,1)+Ke(1,1,2),Ke(1,3,1),Ke(1,2,1)+Ke(1,3,2),Ke(1,2,2)],\n",
    "              [Ke(3,1,1),Ke(3,3,1),Ke(3,2,1),np.zeros((2,2))],\n",
    "              [Ke(2,1,1)+Ke(3,1,2),Ke(2,3,1),Ke(2,2,1)+Ke(3,3,2),Ke(3,2,2)],\n",
    "              [Ke(2,1,2),np.zeros((2,2)),Ke(2,3,2),Ke(2,2,2)]]) \n",
    "J_1"
   ]
  },
  {
   "cell_type": "code",
   "execution_count": 47,
   "metadata": {},
   "outputs": [
    {
     "data": {
      "text/plain": [
       "array([[ 2.4 , -1.3 ],\n",
       "       [-1.3 ,  4.35]])"
      ]
     },
     "execution_count": 47,
     "metadata": {},
     "output_type": "execute_result"
    }
   ],
   "source": [
    "Ke(3,3,1)"
   ]
  }
 ],
 "metadata": {
  "kernelspec": {
   "display_name": "Python 3",
   "language": "python",
   "name": "python3"
  },
  "language_info": {
   "codemirror_mode": {
    "name": "ipython",
    "version": 3
   },
   "file_extension": ".py",
   "mimetype": "text/x-python",
   "name": "python",
   "nbconvert_exporter": "python",
   "pygments_lexer": "ipython3",
   "version": "3.7.3"
  }
 },
 "nbformat": 4,
 "nbformat_minor": 2
}
